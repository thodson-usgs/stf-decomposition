{
  "cells": [
    {
      "cell_type": "markdown",
      "id": "cf2e3b05-b005-4665-8381-fbe22bf0f06d",
      "metadata": {
        "id": "cf2e3b05-b005-4665-8381-fbe22bf0f06d"
      },
      "source": [
        "# stf-decomposition demo\n",
        "[![Open In Colab](https://colab.research.google.com/assets/colab-badge.svg)](https://colab.research.google.com/github/thodson-usgs/stf-decomposition/blob/main/notebooks/stf-decomposition-demo.ipynb)  \n",
        "This notebook demonstrates STF: seasonal-seasonal trend decomposition using the Fast Fourier transform.\n",
        "\n",
        "TODO add short summary"
      ]
    },
    {
      "cell_type": "code",
      "execution_count": 8,
      "id": "e0d3c6c5-cd19-4e55-8196-b4825b9cab58",
      "metadata": {
        "id": "e0d3c6c5-cd19-4e55-8196-b4825b9cab58"
      },
      "outputs": [],
      "source": [
        "%%capture\n",
        "# Add package to Colab environment\n",
        "!pip install stf-decomposition\n",
        "!pip install intake requests aiohttp"
      ]
    },
    {
      "cell_type": "code",
      "execution_count": 9,
      "id": "b1d2aab7-d96e-4536-b9fe-30a73982a5e3",
      "metadata": {
        "colab": {
          "base_uri": "https://localhost:8080/"
        },
        "id": "b1d2aab7-d96e-4536-b9fe-30a73982a5e3",
        "outputId": "618828c0-74ff-4d21-b337-0fcca3c6f27b"
      },
      "outputs": [
        {
          "data": {
            "text/plain": [
              "['air_passengers', 'co2', 'covid_usa', 'retail_sales']"
            ]
          },
          "execution_count": 9,
          "metadata": {},
          "output_type": "execute_result"
        }
      ],
      "source": [
        "# load the data catalog\n",
        "import intake\n",
        "url = 'https://raw.githubusercontent.com/thodson-usgs/stf-decomposition/main/data/stf_data_catalog.yml'\n",
        "cat = intake.open_catalog(url)\n",
        "list(cat)"
      ]
    },
    {
      "cell_type": "code",
      "execution_count": 10,
      "id": "4c427fc1-b007-4f0a-b5f3-822c4bd15b12",
      "metadata": {
        "colab": {
          "base_uri": "https://localhost:8080/",
          "height": 206
        },
        "id": "4c427fc1-b007-4f0a-b5f3-822c4bd15b12",
        "outputId": "24b94131-19d3-40ce-861f-673b7ad29b8c"
      },
      "outputs": [
        {
          "data": {
            "text/html": [
              "\n",
              "  <div id=\"df-b8c0dca4-93a8-4652-878a-574d09def9f2\">\n",
              "    <div class=\"colab-df-container\">\n",
              "      <div>\n",
              "<style scoped>\n",
              "    .dataframe tbody tr th:only-of-type {\n",
              "        vertical-align: middle;\n",
              "    }\n",
              "\n",
              "    .dataframe tbody tr th {\n",
              "        vertical-align: top;\n",
              "    }\n",
              "\n",
              "    .dataframe thead th {\n",
              "        text-align: right;\n",
              "    }\n",
              "</style>\n",
              "<table border=\"1\" class=\"dataframe\">\n",
              "  <thead>\n",
              "    <tr style=\"text-align: right;\">\n",
              "      <th></th>\n",
              "      <th>date</th>\n",
              "      <th>CO2</th>\n",
              "    </tr>\n",
              "  </thead>\n",
              "  <tbody>\n",
              "    <tr>\n",
              "      <th>0</th>\n",
              "      <td>1959-01-31</td>\n",
              "      <td>315.58</td>\n",
              "    </tr>\n",
              "    <tr>\n",
              "      <th>1</th>\n",
              "      <td>1959-02-28</td>\n",
              "      <td>316.39</td>\n",
              "    </tr>\n",
              "    <tr>\n",
              "      <th>2</th>\n",
              "      <td>1959-03-31</td>\n",
              "      <td>316.79</td>\n",
              "    </tr>\n",
              "    <tr>\n",
              "      <th>3</th>\n",
              "      <td>1959-04-30</td>\n",
              "      <td>317.82</td>\n",
              "    </tr>\n",
              "    <tr>\n",
              "      <th>4</th>\n",
              "      <td>1959-05-31</td>\n",
              "      <td>318.39</td>\n",
              "    </tr>\n",
              "  </tbody>\n",
              "</table>\n",
              "</div>\n",
              "      <button class=\"colab-df-convert\" onclick=\"convertToInteractive('df-b8c0dca4-93a8-4652-878a-574d09def9f2')\"\n",
              "              title=\"Convert this dataframe to an interactive table.\"\n",
              "              style=\"display:none;\">\n",
              "        \n",
              "  <svg xmlns=\"http://www.w3.org/2000/svg\" height=\"24px\"viewBox=\"0 0 24 24\"\n",
              "       width=\"24px\">\n",
              "    <path d=\"M0 0h24v24H0V0z\" fill=\"none\"/>\n",
              "    <path d=\"M18.56 5.44l.94 2.06.94-2.06 2.06-.94-2.06-.94-.94-2.06-.94 2.06-2.06.94zm-11 1L8.5 8.5l.94-2.06 2.06-.94-2.06-.94L8.5 2.5l-.94 2.06-2.06.94zm10 10l.94 2.06.94-2.06 2.06-.94-2.06-.94-.94-2.06-.94 2.06-2.06.94z\"/><path d=\"M17.41 7.96l-1.37-1.37c-.4-.4-.92-.59-1.43-.59-.52 0-1.04.2-1.43.59L10.3 9.45l-7.72 7.72c-.78.78-.78 2.05 0 2.83L4 21.41c.39.39.9.59 1.41.59.51 0 1.02-.2 1.41-.59l7.78-7.78 2.81-2.81c.8-.78.8-2.07 0-2.86zM5.41 20L4 18.59l7.72-7.72 1.47 1.35L5.41 20z\"/>\n",
              "  </svg>\n",
              "      </button>\n",
              "      \n",
              "  <style>\n",
              "    .colab-df-container {\n",
              "      display:flex;\n",
              "      flex-wrap:wrap;\n",
              "      gap: 12px;\n",
              "    }\n",
              "\n",
              "    .colab-df-convert {\n",
              "      background-color: #E8F0FE;\n",
              "      border: none;\n",
              "      border-radius: 50%;\n",
              "      cursor: pointer;\n",
              "      display: none;\n",
              "      fill: #1967D2;\n",
              "      height: 32px;\n",
              "      padding: 0 0 0 0;\n",
              "      width: 32px;\n",
              "    }\n",
              "\n",
              "    .colab-df-convert:hover {\n",
              "      background-color: #E2EBFA;\n",
              "      box-shadow: 0px 1px 2px rgba(60, 64, 67, 0.3), 0px 1px 3px 1px rgba(60, 64, 67, 0.15);\n",
              "      fill: #174EA6;\n",
              "    }\n",
              "\n",
              "    [theme=dark] .colab-df-convert {\n",
              "      background-color: #3B4455;\n",
              "      fill: #D2E3FC;\n",
              "    }\n",
              "\n",
              "    [theme=dark] .colab-df-convert:hover {\n",
              "      background-color: #434B5C;\n",
              "      box-shadow: 0px 1px 3px 1px rgba(0, 0, 0, 0.15);\n",
              "      filter: drop-shadow(0px 1px 2px rgba(0, 0, 0, 0.3));\n",
              "      fill: #FFFFFF;\n",
              "    }\n",
              "  </style>\n",
              "\n",
              "      <script>\n",
              "        const buttonEl =\n",
              "          document.querySelector('#df-b8c0dca4-93a8-4652-878a-574d09def9f2 button.colab-df-convert');\n",
              "        buttonEl.style.display =\n",
              "          google.colab.kernel.accessAllowed ? 'block' : 'none';\n",
              "\n",
              "        async function convertToInteractive(key) {\n",
              "          const element = document.querySelector('#df-b8c0dca4-93a8-4652-878a-574d09def9f2');\n",
              "          const dataTable =\n",
              "            await google.colab.kernel.invokeFunction('convertToInteractive',\n",
              "                                                     [key], {});\n",
              "          if (!dataTable) return;\n",
              "\n",
              "          const docLinkHtml = 'Like what you see? Visit the ' +\n",
              "            '<a target=\"_blank\" href=https://colab.research.google.com/notebooks/data_table.ipynb>data table notebook</a>'\n",
              "            + ' to learn more about interactive tables.';\n",
              "          element.innerHTML = '';\n",
              "          dataTable['output_type'] = 'display_data';\n",
              "          await google.colab.output.renderOutput(dataTable, element);\n",
              "          const docLink = document.createElement('div');\n",
              "          docLink.innerHTML = docLinkHtml;\n",
              "          element.appendChild(docLink);\n",
              "        }\n",
              "      </script>\n",
              "    </div>\n",
              "  </div>\n",
              "  "
            ],
            "text/plain": [
              "         date     CO2\n",
              "0  1959-01-31  315.58\n",
              "1  1959-02-28  316.39\n",
              "2  1959-03-31  316.79\n",
              "3  1959-04-30  317.82\n",
              "4  1959-05-31  318.39"
            ]
          },
          "execution_count": 10,
          "metadata": {},
          "output_type": "execute_result"
        }
      ],
      "source": [
        "# load a dataset\n",
        "df = cat['co2'].read()\n",
        "\n",
        "df.head()"
      ]
    },
    {
      "cell_type": "markdown",
      "id": "4d08fbe4-98ab-4cff-b0bb-b4df1a3d1c98",
      "metadata": {
        "id": "4d08fbe4-98ab-4cff-b0bb-b4df1a3d1c98"
      },
      "source": [
        "## Basic usage\n",
        "TODO add short summary"
      ]
    },
    {
      "cell_type": "code",
      "execution_count": null,
      "id": "0fd15d3d-a993-4934-9128-7e21bc4050cd",
      "metadata": {
        "id": "0fd15d3d-a993-4934-9128-7e21bc4050cd"
      },
      "outputs": [],
      "source": [
        "# TODO demonstrate basic usage on co2 dataset"
      ]
    },
    {
      "cell_type": "markdown",
      "id": "327f97e2-440a-424f-b724-8eec34e20811",
      "metadata": {
        "id": "327f97e2-440a-424f-b724-8eec34e20811"
      },
      "source": [
        "## Comparison with STL\n",
        "The functionality of stf_decomposition was modeled after the \n",
        "[statsmodels.tsa.seasonal.STL](https://www.statsmodels.org/devel/examples/notebooks/generated/stl_decomposition.html) library. \n",
        "The motivation in modeling stf_decomposition after STL was to create a decomposition framework\n",
        "that is already familiar to useres for ease of use. \n",
        "In the code below we can observe that the visually the decomposed components after STL and stf_decoposition\n",
        "are very similar in this example. Two different stf_decomposition call were run in order to see\n",
        "the difference between a user input seasonal variable and the optimized seasonal variable.\n"
      ]
    },
    {
      "cell_type": "code",
      "execution_count": null,
      "id": "d1ef599c-06c7-48d9-8161-3e474f09e745",
      "metadata": {
        "id": "d1ef599c-06c7-48d9-8161-3e474f09e745"
      },
      "outputs": [],
      "source": [
        "# TODO make a multi-panel that compares STF and STL on several datasets\n",
        "# you can add more datasets to the data/stf_data_catalog.yml either through our github repo or any URL\n",
        "\n",
        "from statsmodels.tsa.seasonal import STL\n",
        "\n",
        "retail = cat['retail_sales'].read()\n",
        "\n",
        "stl = STL(retail, seasonal = 13)\n",
        "res = stl.fit()\n",
        "fig = res.plot()\n",
        "\n",
        "# Perform stf_decomposition with user input window \n",
        "stf = stf_decomposition(retail, \"blackman\", seasonal = 13)\n",
        "res = stf.fit()\n",
        "fig = res.plot()\n",
        "\n",
        "# Perform stf_decomposition with optimized window\n",
        "stf = stf_decomposition(retail, \"blackman\")\n",
        "res = stf.fit()\n",
        "fig = res.plot()"
      ]
    },
    {
      "cell_type": "markdown",
      "id": "bed5ada0-1d98-4496-9d8c-2c7fae3bfb30",
      "metadata": {
        "id": "bed5ada0-1d98-4496-9d8c-2c7fae3bfb30"
      },
      "source": [
        "## Window Optimization\n",
        "Seasonal window optimization is performed if a user does not give a seasonal input. \n",
        "The optimization method used in seasonal window selection is \n",
        "[scipy.optimize.brute] (https://docs.scipy.org/doc/scipy/reference/generated/scipy.optimize.brute.html).\n",
        "This optimization method was chosen as it returns the global minimum \n",
        "of a given function over a given range of values, in this case a range of 3 to 100.\n"
      ]
    },
    {
      "cell_type": "code",
      "execution_count": null,
      "id": "bc9d6b72-fc1b-4f9d-989e-e51c85082c0e",
      "metadata": {
        "id": "bc9d6b72-fc1b-4f9d-989e-e51c85082c0e"
      },
      "outputs": [],
      "source": [
        "# Window Optimization\n",
        "co2 = cat['co2'].read()\n",
        "\n",
        "stf = stf_decomposition(co2, \"blackman\")\n",
        "res = stf.fit()\n",
        "fig = res.plot()\n",
        "\n",
        "print(stf.seasonal)"
      ]
    },
    {
      "cell_type": "code",
      "execution_count": null,
      "id": "5bfca957",
      "metadata": {},
      "outputs": [],
      "source": [
        "air = cat['air_passengers'].read()\n",
        "\n",
        "stf = stf_decomposition(air, \"blackman\")\n",
        "res = stf.fit()\n",
        "fig = res.plot()\n",
        "\n",
        "print(stf.seasonal)"
      ]
    }
  ],
  "metadata": {
    "colab": {
      "name": "stf-decomposition-demo.ipynb",
      "provenance": []
    },
    "kernelspec": {
      "display_name": "Python 3 (ipykernel)",
      "language": "python",
      "name": "python3"
    },
    "language_info": {
      "codemirror_mode": {
        "name": "ipython",
        "version": 3
      },
      "file_extension": ".py",
      "mimetype": "text/x-python",
      "name": "python",
      "nbconvert_exporter": "python",
      "pygments_lexer": "ipython3",
      "version": "3.8.5"
    }
  },
  "nbformat": 4,
  "nbformat_minor": 5
}
