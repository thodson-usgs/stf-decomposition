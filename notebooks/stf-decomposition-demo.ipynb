{
  "cells": [
    {
      "cell_type": "markdown",
      "id": "cf2e3b05-b005-4665-8381-fbe22bf0f06d",
      "metadata": {
        "id": "cf2e3b05-b005-4665-8381-fbe22bf0f06d"
      },
      "source": [
        "# stf-decomposition demo\n",
        "[![Open In Colab](https://colab.research.google.com/assets/colab-badge.svg)](https://colab.research.google.com/github/thodson-usgs/stf-decomposition/blob/main/notebooks/stf-decomposition-demo.ipynb)  \n",
        "This notebook demonstrates STF: seasonal-seasonal trend decomposition using the Fast Fourier transform.\n",
        "\n",
        "TODO add short summary"
      ]
    },
    {
      "cell_type": "code",
      "execution_count": null,
      "id": "e0d3c6c5-cd19-4e55-8196-b4825b9cab58",
      "metadata": {
        "id": "e0d3c6c5-cd19-4e55-8196-b4825b9cab58"
      },
      "outputs": [],
      "source": [
        "%%capture\n",
        "# Add package to Colab environment\n",
        "#!pip install stf-decomposition\n",
        "!pip install git+https://github.com/thodson-usgs/stf-decomposition.git\n",
        "!pip install intake requests aiohttp\n",
        "!pip install statsmodels #CoLab version is outdated"
      ]
    },
    {
      "cell_type": "code",
      "execution_count": null,
      "id": "b1d2aab7-d96e-4536-b9fe-30a73982a5e3",
      "metadata": {
        "id": "b1d2aab7-d96e-4536-b9fe-30a73982a5e3"
      },
      "outputs": [],
      "source": [
        "# load the data catalog\n",
        "import intake\n",
        "url = 'https://raw.githubusercontent.com/thodson-usgs/stf-decomposition/main/data/stf_data_catalog.yml'\n",
        "cat = intake.open_catalog(url)\n",
        "list(cat)"
      ]
    },
    {
      "cell_type": "code",
      "execution_count": null,
      "id": "4c427fc1-b007-4f0a-b5f3-822c4bd15b12",
      "metadata": {
        "id": "4c427fc1-b007-4f0a-b5f3-822c4bd15b12"
      },
      "outputs": [],
      "source": [
        "# load a dataset\n",
        "df = cat['co2'].read()\n",
        "\n",
        "df.head()"
      ]
    },
    {
      "cell_type": "markdown",
      "id": "4d08fbe4-98ab-4cff-b0bb-b4df1a3d1c98",
      "metadata": {
        "id": "4d08fbe4-98ab-4cff-b0bb-b4df1a3d1c98"
      },
      "source": [
        "## Basic usage\n",
        "TODO add short summary"
      ]
    },
    {
      "cell_type": "code",
      "execution_count": null,
      "id": "0fd15d3d-a993-4934-9128-7e21bc4050cd",
      "metadata": {
        "id": "0fd15d3d-a993-4934-9128-7e21bc4050cd"
      },
      "outputs": [],
      "source": [
        "# TODO demonstrate basic usage on co2 dataset\n",
        "from stf_decomposition import STF"
      ]
    },
    {
      "cell_type": "markdown",
      "id": "327f97e2-440a-424f-b724-8eec34e20811",
      "metadata": {
        "id": "327f97e2-440a-424f-b724-8eec34e20811"
      },
      "source": [
        "## Comparison with STL\n",
        "The functionality of stf_decomposition was modeled after the \n",
        "[statsmodels.tsa.seasonal.STL](https://www.statsmodels.org/devel/examples/notebooks/generated/stl_decomposition.html) library. \n",
        "The motivation in modeling stf_decomposition after STL was to create a decomposition framework\n",
        "that is already familiar to useres for ease of use. \n",
        "In the code below we can observe that the visually the decomposed components after STL and stf_decoposition\n",
        "are very similar in this example. Two different stf_decomposition call were run in order to see\n",
        "the difference between a user input seasonal variable and the optimized seasonal variable.\n"
      ]
    },
    {
      "cell_type": "code",
      "source": [
        "import statsmodels\n",
        "statsmodels.__version__"
      ],
      "metadata": {
        "id": "GsRl_qle3Xns"
      },
      "id": "GsRl_qle3Xns",
      "execution_count": null,
      "outputs": []
    },
    {
      "cell_type": "code",
      "execution_count": null,
      "id": "d1ef599c-06c7-48d9-8161-3e474f09e745",
      "metadata": {
        "id": "d1ef599c-06c7-48d9-8161-3e474f09e745"
      },
      "outputs": [],
      "source": [
        "# TODO make a multi-panel that compares STF and STL on several datasets\n",
        "# you can add more datasets to the data/stf_data_catalog.yml either through our github repo or any URL\n",
        "from stf_decomposition import STF\n",
        "from statsmodels.tsa.seasonal import STL\n",
        "\n",
        "retail = cat['retail_sales'].read()\n",
        "\n",
        "stl = STL(retail, seasonal = 13)\n",
        "res = stl.fit()\n",
        "fig = res.plot()\n",
        "\n",
        "# Perform STF with user input window \n",
        "stf = STF(retail, \"blackman\", seasonal = 13)\n",
        "res = stf.fit()\n",
        "fig = res.plot()\n",
        "\n",
        "# Perform STF with optimized window\n",
        "stf = STF(retail, \"blackman\")\n",
        "res = stf.fit()\n",
        "fig = res.plot()"
      ]
    },
    {
      "cell_type": "markdown",
      "id": "bed5ada0-1d98-4496-9d8c-2c7fae3bfb30",
      "metadata": {
        "id": "bed5ada0-1d98-4496-9d8c-2c7fae3bfb30"
      },
      "source": [
        "## Window Optimization\n",
        "Seasonal window optimization is performed if a user does not give a seasonal input. \n",
        "The optimization method used in seasonal window selection is \n",
        "[scipy.optimize.brute] (https://docs.scipy.org/doc/scipy/reference/generated/scipy.optimize.brute.html).\n",
        "This optimization method was chosen as it returns the global minimum \n",
        "of a given function over a given range of values, in this case a range of 3 to 100.\n"
      ]
    },
    {
      "cell_type": "code",
      "execution_count": null,
      "id": "bc9d6b72-fc1b-4f9d-989e-e51c85082c0e",
      "metadata": {
        "id": "bc9d6b72-fc1b-4f9d-989e-e51c85082c0e"
      },
      "outputs": [],
      "source": [
        "# Window Optimization\n",
        "co2 = cat['co2'].read()\n",
        "\n",
        "stf = STF(co2, \"blackman\")\n",
        "res = stf.fit()\n",
        "fig = res.plot()\n",
        "\n",
        "print(stf.seasonal)"
      ]
    },
    {
      "cell_type": "code",
      "execution_count": null,
      "id": "5bfca957",
      "metadata": {
        "id": "5bfca957"
      },
      "outputs": [],
      "source": [
        "air = cat['air_passengers'].read()\n",
        "\n",
        "stf = STF(air, \"blackman\")\n",
        "res = stf.fit()\n",
        "fig = res.plot()\n",
        "\n",
        "print(stf.seasonal)"
      ]
    }
  ],
  "metadata": {
    "colab": {
      "name": "stf-decomposition-demo.ipynb",
      "provenance": []
    },
    "kernelspec": {
      "display_name": "Python 3.9.7 ('base')",
      "language": "python",
      "name": "python3"
    },
    "language_info": {
      "codemirror_mode": {
        "name": "ipython",
        "version": 3
      },
      "file_extension": ".py",
      "mimetype": "text/x-python",
      "name": "python",
      "nbconvert_exporter": "python",
      "pygments_lexer": "ipython3",
      "version": "3.9.7"
    },
    "vscode": {
      "interpreter": {
        "hash": "47f137dc2596db445f080d945e50571a978ea9f711e401212b5ee8de98cf36f1"
      }
    }
  },
  "nbformat": 4,
  "nbformat_minor": 5
}