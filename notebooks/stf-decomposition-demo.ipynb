{
 "cells": [
  {
   "cell_type": "markdown",
   "id": "cf2e3b05-b005-4665-8381-fbe22bf0f06d",
   "metadata": {},
   "source": [
    "# stf-decomposition demo\n",
    "[![Open In Colab](https://colab.research.google.com/assets/colab-badge.svg)](https://colab.research.google.com/github/thodson-usgs/sft-decomposition/blob/main/notebooks/sft-decomposition-demo.ipynb)  \n",
    "This notebook demonstrates STF: seasonal-seasonal trend decomposition using the Fast Fourier transform.\n",
    "\n",
    "TODO add short summary"
   ]
  },
  {
   "cell_type": "code",
   "execution_count": null,
   "id": "e0d3c6c5-cd19-4e55-8196-b4825b9cab58",
   "metadata": {},
   "outputs": [],
   "source": [
    "# Add package to Colab environment\n",
    "!pip install stf-decomposition"
   ]
  },
  {
   "cell_type": "code",
   "execution_count": null,
   "id": "b1d2aab7-d96e-4536-b9fe-30a73982a5e3",
   "metadata": {},
   "outputs": [],
   "source": [
    "# load the data catalog\n",
    "import intake\n",
    "url = 'https://raw.githubusercontent.com/thodson-usgs/stf-decomposition/main/data/stf_data_catalog.yml'\n",
    "cat = intake.open_catalog(url)\n",
    "list(cat)"
   ]
  },
  {
   "cell_type": "code",
   "execution_count": null,
   "id": "4c427fc1-b007-4f0a-b5f3-822c4bd15b12",
   "metadata": {},
   "outputs": [],
   "source": [
    "# load a dataset\n",
    "df = cat['co2'].read()"
   ]
  },
  {
   "cell_type": "markdown",
   "id": "4d08fbe4-98ab-4cff-b0bb-b4df1a3d1c98",
   "metadata": {},
   "source": [
    "## Basic usage\n",
    "TODO add short summary"
   ]
  },
  {
   "cell_type": "code",
   "execution_count": null,
   "id": "0fd15d3d-a993-4934-9128-7e21bc4050cd",
   "metadata": {},
   "outputs": [],
   "source": [
    "# TODO demonstrate basic usage on co2 dataset"
   ]
  },
  {
   "cell_type": "markdown",
   "id": "327f97e2-440a-424f-b724-8eec34e20811",
   "metadata": {},
   "source": [
    "## Comparison with STL"
   ]
  },
  {
   "cell_type": "code",
   "execution_count": null,
   "id": "d1ef599c-06c7-48d9-8161-3e474f09e745",
   "metadata": {},
   "outputs": [],
   "source": [
    "# TODO make a multi-panel that compares STF and STL on several datasets\n",
    "# you can add more datasets to the data/stf_data_catalog.yml either through our github repo or any URL"
   ]
  },
  {
   "cell_type": "markdown",
   "id": "bed5ada0-1d98-4496-9d8c-2c7fae3bfb30",
   "metadata": {},
   "source": [
    "## Window Optimization\n",
    "TODO add short summary"
   ]
  },
  {
   "cell_type": "code",
   "execution_count": null,
   "id": "bc9d6b72-fc1b-4f9d-989e-e51c85082c0e",
   "metadata": {},
   "outputs": [],
   "source": [
    "# TODO demonstrate optimization"
   ]
  }
 ],
 "metadata": {
  "kernelspec": {
   "display_name": "Python 3 (ipykernel)",
   "language": "python",
   "name": "python3"
  },
  "language_info": {
   "codemirror_mode": {
    "name": "ipython",
    "version": 3
   },
   "file_extension": ".py",
   "mimetype": "text/x-python",
   "name": "python",
   "nbconvert_exporter": "python",
   "pygments_lexer": "ipython3",
   "version": "3.8.5"
  }
 },
 "nbformat": 4,
 "nbformat_minor": 5
}
