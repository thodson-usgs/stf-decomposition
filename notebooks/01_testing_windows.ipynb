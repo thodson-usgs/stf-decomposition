{
 "cells": [
  {
   "cell_type": "code",
   "execution_count": 11,
   "metadata": {},
   "outputs": [],
   "source": [
    "%matplotlib inline\n",
    "import matplotlib.pyplot as plt\n",
    "import ipywidgets as wg\n",
    "import IPython.display\n",
    "import pandas as pd\n",
    "import numpy as np\n",
    "from scipy import signal\n",
    "from scipy.signal import get_window\n",
    "from sklearn.metrics import mean_squared_error\n",
    "import math\n",
    "import warnings\n",
    "warnings.filterwarnings(\"ignore\")\n",
    "\n",
    "def plot_windows(window):\n",
    "    co2 = pd.read_csv(\"../data/co2.csv\") # Tring fft on co2 data\n",
    "    co2[\"date\"] = pd.to_datetime(co2[\"date\"], format = '%Y-%m-%d') # Convert date column to datetime\n",
    "    dt = 1 / 12 # yearly freq\n",
    "    t = np.array(co2[\"date\"]) \n",
    "    f = np.array(co2[\"CO2\"])\n",
    "    n = len(t)\n",
    "\n",
    "    fhat = np.fft.fft(f, n) # Compute FFT\n",
    "    PSD = fhat * np.conj(fhat) / n # Power Spectrum\n",
    "    if window == \"tukey\":\n",
    "        window = signal.tukey(len(f))\n",
    "    else:\n",
    "        window = get_window(window, len(f))\n",
    "\n",
    "    PSD = PSD*window # Multiply PSD by window (multipliction in frequency domain is convultion in time domain)\n",
    "    freq = (1 / (dt*n)) * np.arange(n) # Find frequency\n",
    "    L = np.arange(1, np.floor(n/2), dtype = 'int')  # Only want first half of the frequency domain\n",
    "    peaks = int(np.quantile(PSD, .985)) # Use the PSD to filter out noise\n",
    "    indices = PSD < peaks # Filter out freqs with low power\n",
    "\n",
    "    fhat_clean = indices * fhat # Zero out small Fourier coefs\n",
    "    ffilt = np.fft.ifft(fhat_clean) # Inverse FFT for filtered time signal\n",
    "\n",
    "    indices_seasonal = PSD >= peaks # Filter out freqs with high power\n",
    "    fhat_seasonal = indices_seasonal * fhat # Zero out large Fourier coefs\n",
    "    ffilt_seasonal = np.fft.ifft(fhat_seasonal) # Inverse FFT for filtered time signal\n",
    "\n",
    "\n",
    "    fig, axes = plt.subplots(5, 1)\n",
    "\n",
    "    plt.sca(axes[0])\n",
    "    plt.plot(sorted(freq[L]),PSD[L], color = 'c')\n",
    "    plt.xlim(freq[L[0]], freq[L[-1]])\n",
    "    plt.xlabel(\"Freq (1/yr)\")\n",
    "    plt.ylabel(\"FFT\")\n",
    "\n",
    "    plt.sca(axes[1])\n",
    "    plt.plot(t, f, color = 'c')\n",
    "    plt.xlim(t[0], t[-1])\n",
    "    plt.xlabel(\"Year\")\n",
    "    plt.ylabel(\"CO2 Emissions\")\n",
    "\n",
    "\n",
    "    plt.sca(axes[2])\n",
    "    plt.plot(t, ffilt, color = 'k')\n",
    "    plt.xlim(t[0], t[-1])\n",
    "\n",
    "    plt.sca(axes[3])\n",
    "    plt.plot(t, ffilt_seasonal, color = \"red\")\n",
    "    plt.xlim(t[0], t[-1])\n",
    "\n",
    "\n",
    "\n",
    "    # Find the residuals \n",
    "    residuals = co2[\"CO2\"] - ffilt_seasonal - ffilt\n",
    "    plt.sca(axes[4])\n",
    "    plt.scatter(t, residuals)\n",
    "    plt.xlim(t[0], t[-1])\n",
    "\n",
    "    plt.show()\n",
    "\n",
    "    # Initial Statistical Summary\n",
    "    print(\"The rmse\", math.sqrt(mean_squared_error(co2[\"CO2\"], (ffilt_seasonal + ffilt).real)))\n",
    "    print(\"The dot product of STF seasonal and trend components is \", np.round(ffilt_seasonal.dot(ffilt)))"
   ]
  },
  {
   "cell_type": "code",
   "execution_count": 12,
   "metadata": {},
   "outputs": [
    {
     "data": {
      "application/vnd.jupyter.widget-view+json": {
       "model_id": "1d1dacdf6a0a40c6aba06a79826f2f5c",
       "version_major": 2,
       "version_minor": 0
      },
      "text/plain": [
       "interactive(children=(SelectionSlider(description='window', options=('boxcar', 'blackman', 'hanning', 'tukey',…"
      ]
     },
     "metadata": {},
     "output_type": "display_data"
    },
    {
     "data": {
      "text/plain": [
       "<function __main__.plot_windows(window)>"
      ]
     },
     "execution_count": 12,
     "metadata": {},
     "output_type": "execute_result"
    }
   ],
   "source": [
    "from scipy.signal import get_window\n",
    "window_slider = wg.SelectionSlider(\n",
    "    options = [\"boxcar\", \"blackman\", \"hanning\", \"tukey\", \"hann\", \"parzen\"],\n",
    "    value = \"boxcar\",\n",
    "    description = \"window\",\n",
    "    disabled = False,\n",
    "    continuous_update = True,\n",
    "    orientation = \"horizontal\",\n",
    "    readout = True\n",
    ")\n",
    "\n",
    "wg.interact(plot_windows, window = window_slider)"
   ]
  }
 ],
 "metadata": {
  "interpreter": {
   "hash": "47f137dc2596db445f080d945e50571a978ea9f711e401212b5ee8de98cf36f1"
  },
  "kernelspec": {
   "display_name": "Python 3.9.7 ('base')",
   "language": "python",
   "name": "python3"
  },
  "language_info": {
   "codemirror_mode": {
    "name": "ipython",
    "version": 3
   },
   "file_extension": ".py",
   "mimetype": "text/x-python",
   "name": "python",
   "nbconvert_exporter": "python",
   "pygments_lexer": "ipython3",
   "version": "3.9.7"
  },
  "orig_nbformat": 4
 },
 "nbformat": 4,
 "nbformat_minor": 2
}
