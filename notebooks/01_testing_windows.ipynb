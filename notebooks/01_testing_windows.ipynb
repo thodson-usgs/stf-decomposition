{
 "cells": [
  {
   "cell_type": "code",
   "execution_count": 93,
   "metadata": {},
   "outputs": [],
   "source": [
    "%matplotlib inline\n",
    "import matplotlib.pyplot as plt\n",
    "import ipywidgets as wg\n",
    "import IPython.display\n",
    "import pandas as pd\n",
    "import numpy as np\n",
    "from scipy import signal\n",
    "from scipy.signal import get_window\n",
    "\n",
    "\n",
    "\n",
    "def plot_windows(window):\n",
    "    # Tring fft on co2 data\n",
    "    co2 = pd.read_csv(\"../data/co2.csv\")\n",
    "\n",
    "    co2[\"date\"] = pd.to_datetime(co2[\"date\"], format = '%Y-%m-%d')\n",
    "\n",
    "    dt = 1 / 12 # yearly freq\n",
    "    t = np.array(co2[\"date\"])\n",
    "    f = np.array(co2[\"CO2\"])\n",
    "\n",
    "\n",
    "    n = len(t)\n",
    "    #Compute FFT\n",
    "    fhat = np.fft.fft(f, n)\n",
    "    # Power Spectrum\n",
    "    PSD = fhat * np.conj(fhat) / n\n",
    "\n",
    "    if window == \"tukey\":\n",
    "        window = signal.tukey(len(f))\n",
    "    else:\n",
    "        window = get_window(window, len(f))\n",
    "\n",
    "    PSD = PSD*window\n",
    "    # X axis of freqs\n",
    "    freq = (1 / (dt*n)) * np.arange(n)\n",
    "\n",
    "    # Plotting first half\n",
    "    L = np.arange(1, np.floor(n/2), dtype = 'int')\n",
    "\n",
    "\n",
    "    # Use the PSD to filter out noise\n",
    "    # Filter out freqs with low power\n",
    "    peaks = int(np.quantile(PSD, .985))\n",
    "    indices = PSD < peaks\n",
    "\n",
    "\n",
    "    PSDclean = PSD * indices\n",
    "    # Zero out small Fourier coefs\n",
    "    fhat_clean = indices * fhat\n",
    "    # Inverse FFT for filtered time signal\n",
    "    ffilt = np.fft.ifft(fhat_clean)\n",
    "\n",
    "    # Filter out freqs with high power\n",
    "    indices_seasonal = PSD >= peaks\n",
    "\n",
    "\n",
    "    PSD_seasonal = PSD * indices\n",
    "    fhat_seasonal = indices_seasonal * fhat\n",
    "    ffilt_seasonal = np.fft.ifft(fhat_seasonal)\n",
    "\n",
    "\n",
    "    fig, axes = plt.subplots(5, 1)\n",
    "\n",
    "    plt.sca(axes[0])\n",
    "    plt.plot(freq[L], PSD[L], color = 'c')\n",
    "    plt.xlim(freq[L[0]], freq[L[-1]])\n",
    "    plt.xlabel(\"Freq (1/yr)\")\n",
    "    plt.ylabel(\"FFT\")\n",
    "\n",
    "    plt.sca(axes[1])\n",
    "    plt.plot(t, f, color = 'c')\n",
    "    plt.xlim(t[0], t[-1])\n",
    "    plt.xlabel(\"Year\")\n",
    "    plt.ylabel(\"CO2 Emissions\")\n",
    "\n",
    "\n",
    "    plt.sca(axes[2])\n",
    "    plt.plot(t, ffilt, color = 'k')\n",
    "    plt.xlim(t[0], t[-1])\n",
    "\n",
    "    plt.sca(axes[3])\n",
    "    plt.plot(t, ffilt_seasonal, color = \"red\")\n",
    "    plt.xlim(t[0], t[-1])\n",
    "\n",
    "\n",
    "\n",
    "    # Find the residuals \n",
    "    residuals = co2[\"CO2\"] - ffilt_seasonal - ffilt\n",
    "    plt.sca(axes[4])\n",
    "    plt.scatter(t, residuals)\n",
    "    plt.xlim(t[0], t[-1])\n",
    "\n",
    "    plt.show()\n",
    "\n",
    "    # Initial Statistical Summary\n",
    "    print(\"The sum of the residuals for STF is \", sum(residuals))\n",
    "    print(\"The dot product of STF seasonal and trend components is \", np.round(ffilt_seasonal.dot(ffilt)))"
   ]
  },
  {
   "cell_type": "code",
   "execution_count": 94,
   "metadata": {},
   "outputs": [
    {
     "data": {
      "application/vnd.jupyter.widget-view+json": {
       "model_id": "fd64352eac7945258d47713fbe91adfd",
       "version_major": 2,
       "version_minor": 0
      },
      "text/plain": [
       "interactive(children=(SelectionSlider(description='window', options=('boxcar', 'blackman', 'hanning', 'tukey')…"
      ]
     },
     "metadata": {},
     "output_type": "display_data"
    },
    {
     "data": {
      "text/plain": [
       "<function __main__.plot_windows(window)>"
      ]
     },
     "execution_count": 94,
     "metadata": {},
     "output_type": "execute_result"
    }
   ],
   "source": [
    "from scipy.signal import get_window\n",
    "window_slider = wg.SelectionSlider(\n",
    "    options = [\"boxcar\", \"blackman\", \"hanning\", \"tukey\"],\n",
    "    value = \"boxcar\",\n",
    "    description = \"window\",\n",
    "    disabled = False,\n",
    "    continuous_update = True,\n",
    "    orientation = \"horizontal\",\n",
    "    readout = True\n",
    ")\n",
    "\n",
    "wg.interact(plot_windows, window = window_slider)"
   ]
  }
 ],
 "metadata": {
  "interpreter": {
   "hash": "fcf7ca7221a84a6d5d1ec4c36229b5905046345716c0a70df115d6a4cd2d1857"
  },
  "kernelspec": {
   "display_name": "Python 3.8.3 ('base')",
   "language": "python",
   "name": "python3"
  },
  "language_info": {
   "codemirror_mode": {
    "name": "ipython",
    "version": 3
   },
   "file_extension": ".py",
   "mimetype": "text/x-python",
   "name": "python",
   "nbconvert_exporter": "python",
   "pygments_lexer": "ipython3",
   "version": "3.8.3"
  },
  "orig_nbformat": 4
 },
 "nbformat": 4,
 "nbformat_minor": 2
}
